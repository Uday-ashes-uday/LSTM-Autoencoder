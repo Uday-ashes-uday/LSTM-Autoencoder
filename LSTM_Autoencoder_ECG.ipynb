{
  "nbformat": 4,
  "nbformat_minor": 0,
  "metadata": {
    "colab": {
      "provenance": [],
      "gpuType": "T4",
      "mount_file_id": "1W3YbgghLNluPAxABBGVawq9Jdk6oezJJ",
      "authorship_tag": "ABX9TyMTvjgtLej5J07pcGlr43om",
      "include_colab_link": true
    },
    "kernelspec": {
      "name": "python3",
      "display_name": "Python 3"
    },
    "language_info": {
      "name": "python"
    },
    "accelerator": "GPU"
  },
  "cells": [
    {
      "cell_type": "markdown",
      "metadata": {
        "id": "view-in-github",
        "colab_type": "text"
      },
      "source": [
        "<a href=\"https://colab.research.google.com/github/Uday-ashes-uday/LSTM-Autoencoder/blob/main/LSTM_Autoencoder_ECG.ipynb\" target=\"_parent\"><img src=\"https://colab.research.google.com/assets/colab-badge.svg\" alt=\"Open In Colab\"/></a>"
      ]
    },
    {
      "cell_type": "code",
      "execution_count": 1,
      "metadata": {
        "colab": {
          "base_uri": "https://localhost:8080/"
        },
        "id": "TLVkTlc2xmdx",
        "outputId": "4b472187-8cc2-4c26-ca4d-aa70c460fab1"
      },
      "outputs": [
        {
          "output_type": "stream",
          "name": "stdout",
          "text": [
            "Archive:  /content/drive/MyDrive/ECG5000.zip\n",
            "  inflating: ECG5000.txt             \n",
            "  inflating: ECG5000_TEST.arff       \n",
            "  inflating: ECG5000_TEST.txt        \n",
            "  inflating: ECG5000_TRAIN.arff      \n",
            "  inflating: ECG5000_TRAIN.txt       \n",
            "  inflating: ECG5000_TEST.ts         \n",
            "  inflating: ECG5000_TRAIN.ts        \n"
          ]
        }
      ],
      "source": [
        "#get data\n",
        "#--> unzip data\n",
        "\n",
        "\n",
        "!unzip /content/drive/MyDrive/ECG5000.zip"
      ]
    },
    {
      "cell_type": "code",
      "source": [
        "!pip install arff"
      ],
      "metadata": {
        "colab": {
          "base_uri": "https://localhost:8080/"
        },
        "id": "ExOJRrBqzCbG",
        "outputId": "91aab082-d638-4644-9c52-c8d6d1c51907"
      },
      "execution_count": 2,
      "outputs": [
        {
          "output_type": "stream",
          "name": "stdout",
          "text": [
            "Collecting arff\n",
            "  Downloading arff-0.9.tar.gz (4.7 kB)\n",
            "  Preparing metadata (setup.py) ... \u001b[?25l\u001b[?25hdone\n",
            "Building wheels for collected packages: arff\n",
            "  Building wheel for arff (setup.py) ... \u001b[?25l\u001b[?25hdone\n",
            "  Created wheel for arff: filename=arff-0.9-py3-none-any.whl size=4949 sha256=6cd3c2b675f4088a8cc2afd67fa8a5bc96676a97e811e80d92f1eafa3fc5c536\n",
            "  Stored in directory: /root/.cache/pip/wheels/0c/39/12/4d8ff491018bce2dd9cc6034298f27399c7f4fd4063187f7be\n",
            "Successfully built arff\n",
            "Installing collected packages: arff\n",
            "Successfully installed arff-0.9\n"
          ]
        }
      ]
    },
    {
      "cell_type": "code",
      "source": [
        "import pandas as pd\n",
        "import numpy as np\n",
        "from numpy import genfromtxt\n",
        "import csv\n",
        "import arff\n",
        "import seaborn as sns\n",
        "from pylab import rcParams\n",
        "import matplotlib.pyplot as plt\n",
        "from matplotlib import rc\n",
        "import torch"
      ],
      "metadata": {
        "id": "s_KLwJ-IyOef"
      },
      "execution_count": 3,
      "outputs": []
    },
    {
      "cell_type": "code",
      "source": [
        "if torch.cuda.is_available():\n",
        "  device='cuda'\n",
        "else:\n",
        "  device='cpu'"
      ],
      "metadata": {
        "id": "09x-huhgz1XO"
      },
      "execution_count": 5,
      "outputs": []
    },
    {
      "cell_type": "code",
      "source": [
        "# @title convert .arff to pandas dataframe\n",
        "from scipy.io import arff\n",
        "import pandas as pd\n",
        "\n",
        "data = arff.loadarff('/content/ECG5000_TRAIN.arff')\n",
        "df = pd.DataFrame(data[0])\n",
        "\n",
        "test_data=arff.loadarff('/content/ECG5000_TEST.arff')\n",
        "t_df=pd.DataFrame(test_data[0])"
      ],
      "metadata": {
        "id": "gmUZ1mvn0wLf"
      },
      "execution_count": 6,
      "outputs": []
    },
    {
      "cell_type": "code",
      "source": [
        "#concat training and test dataframes\n",
        "\n",
        "new_df=pd.concat([df,t_df])\n",
        "\n",
        "#shuffle dataframe\n",
        "\n",
        "data=new_df.sample(frac=1.0)"
      ],
      "metadata": {
        "id": "URt_0DUv0ywP"
      },
      "execution_count": 7,
      "outputs": []
    },
    {
      "cell_type": "code",
      "source": [
        "data"
      ],
      "metadata": {
        "colab": {
          "base_uri": "https://localhost:8080/",
          "height": 424
        },
        "id": "HVhoEEez1TfH",
        "outputId": "3d0d71ee-fcfc-46a4-ee4c-e3132fdf5fe3"
      },
      "execution_count": 8,
      "outputs": [
        {
          "output_type": "execute_result",
          "data": {
            "text/plain": [
              "          att1      att2      att3      att4      att5      att6      att7  \\\n",
              "1001  1.469756 -1.048520 -3.394356 -4.254399 -4.162834 -3.822570 -3.003609   \n",
              "2086 -1.998602 -3.770552 -4.267091 -4.256133 -3.515288 -2.554540 -1.699639   \n",
              "2153 -1.187772 -3.365038 -3.695653 -4.094781 -3.992549 -3.425381 -2.057643   \n",
              "555   0.604969 -1.671363 -3.236131 -3.966465 -4.067820 -3.551897 -2.582864   \n",
              "205  -1.197203 -3.270123 -3.778723 -3.977574 -3.405060 -2.392634 -1.726322   \n",
              "...        ...       ...       ...       ...       ...       ...       ...   \n",
              "3926 -0.248881 -1.346474 -1.855199 -2.519039 -2.947360 -3.233288 -3.087431   \n",
              "466  -0.287286 -1.199089 -1.563916 -2.078314 -2.456073 -2.508211 -2.465002   \n",
              "2592 -1.032096 -2.811901 -3.588706 -3.883206 -3.279964 -2.275187 -1.771033   \n",
              "3272 -1.592541 -2.461370 -2.524132 -3.062815 -2.968224 -2.784655 -2.738399   \n",
              "360  -1.945586 -3.840519 -3.994683 -4.075513 -3.825354 -2.707352 -1.890840   \n",
              "\n",
              "          att8      att9     att10  ...    att132    att133    att134  \\\n",
              "1001 -1.799773 -1.500033 -1.025095  ...  0.945178  1.275588  1.617218   \n",
              "2086 -1.566366 -1.038815 -0.425483  ...  1.008577  1.024698  1.051141   \n",
              "2153 -1.277729 -1.307397 -0.623098  ...  1.085007  1.467196  1.413850   \n",
              "555  -1.804755 -1.688151 -1.025897  ...  0.545222  0.649363  0.986846   \n",
              "205  -1.572748 -0.920075 -0.388731  ...  0.828168  0.914338  1.063077   \n",
              "...        ...       ...       ...  ...       ...       ...       ...   \n",
              "3926 -2.668242 -1.970671 -1.390033  ... -1.157266 -1.605818 -2.286109   \n",
              "466  -2.445333 -2.320656 -1.995150  ... -2.061417 -2.679767 -3.228270   \n",
              "2592 -1.603019 -0.956392 -0.764538  ...  1.280471  1.353143  1.526594   \n",
              "3272 -2.431311 -2.063169 -1.555809  ... -2.179744 -2.624303 -3.107874   \n",
              "360  -1.637062 -0.890024 -0.197107  ...  1.293377  1.610488  1.860587   \n",
              "\n",
              "        att135    att136    att137    att138    att139    att140  target  \n",
              "1001  1.580279  1.306195  1.351674  1.915517  1.672103 -1.039932    b'1'  \n",
              "2086  1.015352  0.988475  1.050191  1.089509  1.465382  0.799517    b'1'  \n",
              "2153  1.283822  0.923126  0.759235  0.932364  1.216265 -0.824489    b'1'  \n",
              "555   1.234495  1.280039  1.215985  1.617971  2.196543  0.023843    b'1'  \n",
              "205   1.393479  1.469756  1.392281  1.144732  1.668263  1.734676    b'1'  \n",
              "...        ...       ...       ...       ...       ...       ...     ...  \n",
              "3926 -3.247334 -3.551343 -3.426098 -2.171479 -1.380595 -0.378163    b'2'  \n",
              "466  -3.584828 -3.629377 -3.000843 -2.079477 -1.307187  0.075742    b'2'  \n",
              "2592  1.429218  1.099634  1.245052  1.568047  1.776520  0.750669    b'1'  \n",
              "3272 -3.102964 -2.746384 -1.972664 -1.077676 -0.707541  0.354016    b'2'  \n",
              "360   1.655369  0.920235  0.632554  0.951979  0.883145 -1.366044    b'1'  \n",
              "\n",
              "[5000 rows x 141 columns]"
            ],
            "text/html": [
              "\n",
              "  <div id=\"df-b3c75575-0cbe-4ae6-9e7e-281ea586d8c7\" class=\"colab-df-container\">\n",
              "    <div>\n",
              "<style scoped>\n",
              "    .dataframe tbody tr th:only-of-type {\n",
              "        vertical-align: middle;\n",
              "    }\n",
              "\n",
              "    .dataframe tbody tr th {\n",
              "        vertical-align: top;\n",
              "    }\n",
              "\n",
              "    .dataframe thead th {\n",
              "        text-align: right;\n",
              "    }\n",
              "</style>\n",
              "<table border=\"1\" class=\"dataframe\">\n",
              "  <thead>\n",
              "    <tr style=\"text-align: right;\">\n",
              "      <th></th>\n",
              "      <th>att1</th>\n",
              "      <th>att2</th>\n",
              "      <th>att3</th>\n",
              "      <th>att4</th>\n",
              "      <th>att5</th>\n",
              "      <th>att6</th>\n",
              "      <th>att7</th>\n",
              "      <th>att8</th>\n",
              "      <th>att9</th>\n",
              "      <th>att10</th>\n",
              "      <th>...</th>\n",
              "      <th>att132</th>\n",
              "      <th>att133</th>\n",
              "      <th>att134</th>\n",
              "      <th>att135</th>\n",
              "      <th>att136</th>\n",
              "      <th>att137</th>\n",
              "      <th>att138</th>\n",
              "      <th>att139</th>\n",
              "      <th>att140</th>\n",
              "      <th>target</th>\n",
              "    </tr>\n",
              "  </thead>\n",
              "  <tbody>\n",
              "    <tr>\n",
              "      <th>1001</th>\n",
              "      <td>1.469756</td>\n",
              "      <td>-1.048520</td>\n",
              "      <td>-3.394356</td>\n",
              "      <td>-4.254399</td>\n",
              "      <td>-4.162834</td>\n",
              "      <td>-3.822570</td>\n",
              "      <td>-3.003609</td>\n",
              "      <td>-1.799773</td>\n",
              "      <td>-1.500033</td>\n",
              "      <td>-1.025095</td>\n",
              "      <td>...</td>\n",
              "      <td>0.945178</td>\n",
              "      <td>1.275588</td>\n",
              "      <td>1.617218</td>\n",
              "      <td>1.580279</td>\n",
              "      <td>1.306195</td>\n",
              "      <td>1.351674</td>\n",
              "      <td>1.915517</td>\n",
              "      <td>1.672103</td>\n",
              "      <td>-1.039932</td>\n",
              "      <td>b'1'</td>\n",
              "    </tr>\n",
              "    <tr>\n",
              "      <th>2086</th>\n",
              "      <td>-1.998602</td>\n",
              "      <td>-3.770552</td>\n",
              "      <td>-4.267091</td>\n",
              "      <td>-4.256133</td>\n",
              "      <td>-3.515288</td>\n",
              "      <td>-2.554540</td>\n",
              "      <td>-1.699639</td>\n",
              "      <td>-1.566366</td>\n",
              "      <td>-1.038815</td>\n",
              "      <td>-0.425483</td>\n",
              "      <td>...</td>\n",
              "      <td>1.008577</td>\n",
              "      <td>1.024698</td>\n",
              "      <td>1.051141</td>\n",
              "      <td>1.015352</td>\n",
              "      <td>0.988475</td>\n",
              "      <td>1.050191</td>\n",
              "      <td>1.089509</td>\n",
              "      <td>1.465382</td>\n",
              "      <td>0.799517</td>\n",
              "      <td>b'1'</td>\n",
              "    </tr>\n",
              "    <tr>\n",
              "      <th>2153</th>\n",
              "      <td>-1.187772</td>\n",
              "      <td>-3.365038</td>\n",
              "      <td>-3.695653</td>\n",
              "      <td>-4.094781</td>\n",
              "      <td>-3.992549</td>\n",
              "      <td>-3.425381</td>\n",
              "      <td>-2.057643</td>\n",
              "      <td>-1.277729</td>\n",
              "      <td>-1.307397</td>\n",
              "      <td>-0.623098</td>\n",
              "      <td>...</td>\n",
              "      <td>1.085007</td>\n",
              "      <td>1.467196</td>\n",
              "      <td>1.413850</td>\n",
              "      <td>1.283822</td>\n",
              "      <td>0.923126</td>\n",
              "      <td>0.759235</td>\n",
              "      <td>0.932364</td>\n",
              "      <td>1.216265</td>\n",
              "      <td>-0.824489</td>\n",
              "      <td>b'1'</td>\n",
              "    </tr>\n",
              "    <tr>\n",
              "      <th>555</th>\n",
              "      <td>0.604969</td>\n",
              "      <td>-1.671363</td>\n",
              "      <td>-3.236131</td>\n",
              "      <td>-3.966465</td>\n",
              "      <td>-4.067820</td>\n",
              "      <td>-3.551897</td>\n",
              "      <td>-2.582864</td>\n",
              "      <td>-1.804755</td>\n",
              "      <td>-1.688151</td>\n",
              "      <td>-1.025897</td>\n",
              "      <td>...</td>\n",
              "      <td>0.545222</td>\n",
              "      <td>0.649363</td>\n",
              "      <td>0.986846</td>\n",
              "      <td>1.234495</td>\n",
              "      <td>1.280039</td>\n",
              "      <td>1.215985</td>\n",
              "      <td>1.617971</td>\n",
              "      <td>2.196543</td>\n",
              "      <td>0.023843</td>\n",
              "      <td>b'1'</td>\n",
              "    </tr>\n",
              "    <tr>\n",
              "      <th>205</th>\n",
              "      <td>-1.197203</td>\n",
              "      <td>-3.270123</td>\n",
              "      <td>-3.778723</td>\n",
              "      <td>-3.977574</td>\n",
              "      <td>-3.405060</td>\n",
              "      <td>-2.392634</td>\n",
              "      <td>-1.726322</td>\n",
              "      <td>-1.572748</td>\n",
              "      <td>-0.920075</td>\n",
              "      <td>-0.388731</td>\n",
              "      <td>...</td>\n",
              "      <td>0.828168</td>\n",
              "      <td>0.914338</td>\n",
              "      <td>1.063077</td>\n",
              "      <td>1.393479</td>\n",
              "      <td>1.469756</td>\n",
              "      <td>1.392281</td>\n",
              "      <td>1.144732</td>\n",
              "      <td>1.668263</td>\n",
              "      <td>1.734676</td>\n",
              "      <td>b'1'</td>\n",
              "    </tr>\n",
              "    <tr>\n",
              "      <th>...</th>\n",
              "      <td>...</td>\n",
              "      <td>...</td>\n",
              "      <td>...</td>\n",
              "      <td>...</td>\n",
              "      <td>...</td>\n",
              "      <td>...</td>\n",
              "      <td>...</td>\n",
              "      <td>...</td>\n",
              "      <td>...</td>\n",
              "      <td>...</td>\n",
              "      <td>...</td>\n",
              "      <td>...</td>\n",
              "      <td>...</td>\n",
              "      <td>...</td>\n",
              "      <td>...</td>\n",
              "      <td>...</td>\n",
              "      <td>...</td>\n",
              "      <td>...</td>\n",
              "      <td>...</td>\n",
              "      <td>...</td>\n",
              "      <td>...</td>\n",
              "    </tr>\n",
              "    <tr>\n",
              "      <th>3926</th>\n",
              "      <td>-0.248881</td>\n",
              "      <td>-1.346474</td>\n",
              "      <td>-1.855199</td>\n",
              "      <td>-2.519039</td>\n",
              "      <td>-2.947360</td>\n",
              "      <td>-3.233288</td>\n",
              "      <td>-3.087431</td>\n",
              "      <td>-2.668242</td>\n",
              "      <td>-1.970671</td>\n",
              "      <td>-1.390033</td>\n",
              "      <td>...</td>\n",
              "      <td>-1.157266</td>\n",
              "      <td>-1.605818</td>\n",
              "      <td>-2.286109</td>\n",
              "      <td>-3.247334</td>\n",
              "      <td>-3.551343</td>\n",
              "      <td>-3.426098</td>\n",
              "      <td>-2.171479</td>\n",
              "      <td>-1.380595</td>\n",
              "      <td>-0.378163</td>\n",
              "      <td>b'2'</td>\n",
              "    </tr>\n",
              "    <tr>\n",
              "      <th>466</th>\n",
              "      <td>-0.287286</td>\n",
              "      <td>-1.199089</td>\n",
              "      <td>-1.563916</td>\n",
              "      <td>-2.078314</td>\n",
              "      <td>-2.456073</td>\n",
              "      <td>-2.508211</td>\n",
              "      <td>-2.465002</td>\n",
              "      <td>-2.445333</td>\n",
              "      <td>-2.320656</td>\n",
              "      <td>-1.995150</td>\n",
              "      <td>...</td>\n",
              "      <td>-2.061417</td>\n",
              "      <td>-2.679767</td>\n",
              "      <td>-3.228270</td>\n",
              "      <td>-3.584828</td>\n",
              "      <td>-3.629377</td>\n",
              "      <td>-3.000843</td>\n",
              "      <td>-2.079477</td>\n",
              "      <td>-1.307187</td>\n",
              "      <td>0.075742</td>\n",
              "      <td>b'2'</td>\n",
              "    </tr>\n",
              "    <tr>\n",
              "      <th>2592</th>\n",
              "      <td>-1.032096</td>\n",
              "      <td>-2.811901</td>\n",
              "      <td>-3.588706</td>\n",
              "      <td>-3.883206</td>\n",
              "      <td>-3.279964</td>\n",
              "      <td>-2.275187</td>\n",
              "      <td>-1.771033</td>\n",
              "      <td>-1.603019</td>\n",
              "      <td>-0.956392</td>\n",
              "      <td>-0.764538</td>\n",
              "      <td>...</td>\n",
              "      <td>1.280471</td>\n",
              "      <td>1.353143</td>\n",
              "      <td>1.526594</td>\n",
              "      <td>1.429218</td>\n",
              "      <td>1.099634</td>\n",
              "      <td>1.245052</td>\n",
              "      <td>1.568047</td>\n",
              "      <td>1.776520</td>\n",
              "      <td>0.750669</td>\n",
              "      <td>b'1'</td>\n",
              "    </tr>\n",
              "    <tr>\n",
              "      <th>3272</th>\n",
              "      <td>-1.592541</td>\n",
              "      <td>-2.461370</td>\n",
              "      <td>-2.524132</td>\n",
              "      <td>-3.062815</td>\n",
              "      <td>-2.968224</td>\n",
              "      <td>-2.784655</td>\n",
              "      <td>-2.738399</td>\n",
              "      <td>-2.431311</td>\n",
              "      <td>-2.063169</td>\n",
              "      <td>-1.555809</td>\n",
              "      <td>...</td>\n",
              "      <td>-2.179744</td>\n",
              "      <td>-2.624303</td>\n",
              "      <td>-3.107874</td>\n",
              "      <td>-3.102964</td>\n",
              "      <td>-2.746384</td>\n",
              "      <td>-1.972664</td>\n",
              "      <td>-1.077676</td>\n",
              "      <td>-0.707541</td>\n",
              "      <td>0.354016</td>\n",
              "      <td>b'2'</td>\n",
              "    </tr>\n",
              "    <tr>\n",
              "      <th>360</th>\n",
              "      <td>-1.945586</td>\n",
              "      <td>-3.840519</td>\n",
              "      <td>-3.994683</td>\n",
              "      <td>-4.075513</td>\n",
              "      <td>-3.825354</td>\n",
              "      <td>-2.707352</td>\n",
              "      <td>-1.890840</td>\n",
              "      <td>-1.637062</td>\n",
              "      <td>-0.890024</td>\n",
              "      <td>-0.197107</td>\n",
              "      <td>...</td>\n",
              "      <td>1.293377</td>\n",
              "      <td>1.610488</td>\n",
              "      <td>1.860587</td>\n",
              "      <td>1.655369</td>\n",
              "      <td>0.920235</td>\n",
              "      <td>0.632554</td>\n",
              "      <td>0.951979</td>\n",
              "      <td>0.883145</td>\n",
              "      <td>-1.366044</td>\n",
              "      <td>b'1'</td>\n",
              "    </tr>\n",
              "  </tbody>\n",
              "</table>\n",
              "<p>5000 rows × 141 columns</p>\n",
              "</div>\n",
              "    <div class=\"colab-df-buttons\">\n",
              "\n",
              "  <div class=\"colab-df-container\">\n",
              "    <button class=\"colab-df-convert\" onclick=\"convertToInteractive('df-b3c75575-0cbe-4ae6-9e7e-281ea586d8c7')\"\n",
              "            title=\"Convert this dataframe to an interactive table.\"\n",
              "            style=\"display:none;\">\n",
              "\n",
              "  <svg xmlns=\"http://www.w3.org/2000/svg\" height=\"24px\" viewBox=\"0 -960 960 960\">\n",
              "    <path d=\"M120-120v-720h720v720H120Zm60-500h600v-160H180v160Zm220 220h160v-160H400v160Zm0 220h160v-160H400v160ZM180-400h160v-160H180v160Zm440 0h160v-160H620v160ZM180-180h160v-160H180v160Zm440 0h160v-160H620v160Z\"/>\n",
              "  </svg>\n",
              "    </button>\n",
              "\n",
              "  <style>\n",
              "    .colab-df-container {\n",
              "      display:flex;\n",
              "      gap: 12px;\n",
              "    }\n",
              "\n",
              "    .colab-df-convert {\n",
              "      background-color: #E8F0FE;\n",
              "      border: none;\n",
              "      border-radius: 50%;\n",
              "      cursor: pointer;\n",
              "      display: none;\n",
              "      fill: #1967D2;\n",
              "      height: 32px;\n",
              "      padding: 0 0 0 0;\n",
              "      width: 32px;\n",
              "    }\n",
              "\n",
              "    .colab-df-convert:hover {\n",
              "      background-color: #E2EBFA;\n",
              "      box-shadow: 0px 1px 2px rgba(60, 64, 67, 0.3), 0px 1px 3px 1px rgba(60, 64, 67, 0.15);\n",
              "      fill: #174EA6;\n",
              "    }\n",
              "\n",
              "    .colab-df-buttons div {\n",
              "      margin-bottom: 4px;\n",
              "    }\n",
              "\n",
              "    [theme=dark] .colab-df-convert {\n",
              "      background-color: #3B4455;\n",
              "      fill: #D2E3FC;\n",
              "    }\n",
              "\n",
              "    [theme=dark] .colab-df-convert:hover {\n",
              "      background-color: #434B5C;\n",
              "      box-shadow: 0px 1px 3px 1px rgba(0, 0, 0, 0.15);\n",
              "      filter: drop-shadow(0px 1px 2px rgba(0, 0, 0, 0.3));\n",
              "      fill: #FFFFFF;\n",
              "    }\n",
              "  </style>\n",
              "\n",
              "    <script>\n",
              "      const buttonEl =\n",
              "        document.querySelector('#df-b3c75575-0cbe-4ae6-9e7e-281ea586d8c7 button.colab-df-convert');\n",
              "      buttonEl.style.display =\n",
              "        google.colab.kernel.accessAllowed ? 'block' : 'none';\n",
              "\n",
              "      async function convertToInteractive(key) {\n",
              "        const element = document.querySelector('#df-b3c75575-0cbe-4ae6-9e7e-281ea586d8c7');\n",
              "        const dataTable =\n",
              "          await google.colab.kernel.invokeFunction('convertToInteractive',\n",
              "                                                    [key], {});\n",
              "        if (!dataTable) return;\n",
              "\n",
              "        const docLinkHtml = 'Like what you see? Visit the ' +\n",
              "          '<a target=\"_blank\" href=https://colab.research.google.com/notebooks/data_table.ipynb>data table notebook</a>'\n",
              "          + ' to learn more about interactive tables.';\n",
              "        element.innerHTML = '';\n",
              "        dataTable['output_type'] = 'display_data';\n",
              "        await google.colab.output.renderOutput(dataTable, element);\n",
              "        const docLink = document.createElement('div');\n",
              "        docLink.innerHTML = docLinkHtml;\n",
              "        element.appendChild(docLink);\n",
              "      }\n",
              "    </script>\n",
              "  </div>\n",
              "\n",
              "\n",
              "<div id=\"df-c8d5cc79-b1a1-4891-b4ea-cd3ad5a09d5f\">\n",
              "  <button class=\"colab-df-quickchart\" onclick=\"quickchart('df-c8d5cc79-b1a1-4891-b4ea-cd3ad5a09d5f')\"\n",
              "            title=\"Suggest charts\"\n",
              "            style=\"display:none;\">\n",
              "\n",
              "<svg xmlns=\"http://www.w3.org/2000/svg\" height=\"24px\"viewBox=\"0 0 24 24\"\n",
              "     width=\"24px\">\n",
              "    <g>\n",
              "        <path d=\"M19 3H5c-1.1 0-2 .9-2 2v14c0 1.1.9 2 2 2h14c1.1 0 2-.9 2-2V5c0-1.1-.9-2-2-2zM9 17H7v-7h2v7zm4 0h-2V7h2v10zm4 0h-2v-4h2v4z\"/>\n",
              "    </g>\n",
              "</svg>\n",
              "  </button>\n",
              "\n",
              "<style>\n",
              "  .colab-df-quickchart {\n",
              "      --bg-color: #E8F0FE;\n",
              "      --fill-color: #1967D2;\n",
              "      --hover-bg-color: #E2EBFA;\n",
              "      --hover-fill-color: #174EA6;\n",
              "      --disabled-fill-color: #AAA;\n",
              "      --disabled-bg-color: #DDD;\n",
              "  }\n",
              "\n",
              "  [theme=dark] .colab-df-quickchart {\n",
              "      --bg-color: #3B4455;\n",
              "      --fill-color: #D2E3FC;\n",
              "      --hover-bg-color: #434B5C;\n",
              "      --hover-fill-color: #FFFFFF;\n",
              "      --disabled-bg-color: #3B4455;\n",
              "      --disabled-fill-color: #666;\n",
              "  }\n",
              "\n",
              "  .colab-df-quickchart {\n",
              "    background-color: var(--bg-color);\n",
              "    border: none;\n",
              "    border-radius: 50%;\n",
              "    cursor: pointer;\n",
              "    display: none;\n",
              "    fill: var(--fill-color);\n",
              "    height: 32px;\n",
              "    padding: 0;\n",
              "    width: 32px;\n",
              "  }\n",
              "\n",
              "  .colab-df-quickchart:hover {\n",
              "    background-color: var(--hover-bg-color);\n",
              "    box-shadow: 0 1px 2px rgba(60, 64, 67, 0.3), 0 1px 3px 1px rgba(60, 64, 67, 0.15);\n",
              "    fill: var(--button-hover-fill-color);\n",
              "  }\n",
              "\n",
              "  .colab-df-quickchart-complete:disabled,\n",
              "  .colab-df-quickchart-complete:disabled:hover {\n",
              "    background-color: var(--disabled-bg-color);\n",
              "    fill: var(--disabled-fill-color);\n",
              "    box-shadow: none;\n",
              "  }\n",
              "\n",
              "  .colab-df-spinner {\n",
              "    border: 2px solid var(--fill-color);\n",
              "    border-color: transparent;\n",
              "    border-bottom-color: var(--fill-color);\n",
              "    animation:\n",
              "      spin 1s steps(1) infinite;\n",
              "  }\n",
              "\n",
              "  @keyframes spin {\n",
              "    0% {\n",
              "      border-color: transparent;\n",
              "      border-bottom-color: var(--fill-color);\n",
              "      border-left-color: var(--fill-color);\n",
              "    }\n",
              "    20% {\n",
              "      border-color: transparent;\n",
              "      border-left-color: var(--fill-color);\n",
              "      border-top-color: var(--fill-color);\n",
              "    }\n",
              "    30% {\n",
              "      border-color: transparent;\n",
              "      border-left-color: var(--fill-color);\n",
              "      border-top-color: var(--fill-color);\n",
              "      border-right-color: var(--fill-color);\n",
              "    }\n",
              "    40% {\n",
              "      border-color: transparent;\n",
              "      border-right-color: var(--fill-color);\n",
              "      border-top-color: var(--fill-color);\n",
              "    }\n",
              "    60% {\n",
              "      border-color: transparent;\n",
              "      border-right-color: var(--fill-color);\n",
              "    }\n",
              "    80% {\n",
              "      border-color: transparent;\n",
              "      border-right-color: var(--fill-color);\n",
              "      border-bottom-color: var(--fill-color);\n",
              "    }\n",
              "    90% {\n",
              "      border-color: transparent;\n",
              "      border-bottom-color: var(--fill-color);\n",
              "    }\n",
              "  }\n",
              "</style>\n",
              "\n",
              "  <script>\n",
              "    async function quickchart(key) {\n",
              "      const quickchartButtonEl =\n",
              "        document.querySelector('#' + key + ' button');\n",
              "      quickchartButtonEl.disabled = true;  // To prevent multiple clicks.\n",
              "      quickchartButtonEl.classList.add('colab-df-spinner');\n",
              "      try {\n",
              "        const charts = await google.colab.kernel.invokeFunction(\n",
              "            'suggestCharts', [key], {});\n",
              "      } catch (error) {\n",
              "        console.error('Error during call to suggestCharts:', error);\n",
              "      }\n",
              "      quickchartButtonEl.classList.remove('colab-df-spinner');\n",
              "      quickchartButtonEl.classList.add('colab-df-quickchart-complete');\n",
              "    }\n",
              "    (() => {\n",
              "      let quickchartButtonEl =\n",
              "        document.querySelector('#df-c8d5cc79-b1a1-4891-b4ea-cd3ad5a09d5f button');\n",
              "      quickchartButtonEl.style.display =\n",
              "        google.colab.kernel.accessAllowed ? 'block' : 'none';\n",
              "    })();\n",
              "  </script>\n",
              "</div>\n",
              "    </div>\n",
              "  </div>\n"
            ]
          },
          "metadata": {},
          "execution_count": 8
        }
      ]
    },
    {
      "cell_type": "code",
      "source": [
        "class_names=['Normal','R on T','PVC','SP','UB']"
      ],
      "metadata": {
        "id": "ddpqsmF9FvPf"
      },
      "execution_count": 9,
      "outputs": []
    },
    {
      "cell_type": "code",
      "source": [
        "#check amount of data available for each class\n",
        "\n",
        "data['target'].value_counts()\n",
        "\n"
      ],
      "metadata": {
        "colab": {
          "base_uri": "https://localhost:8080/"
        },
        "id": "LOJJYuX63u5P",
        "outputId": "f69c88c9-469e-431f-da56-f0085a579681"
      },
      "execution_count": 10,
      "outputs": [
        {
          "output_type": "execute_result",
          "data": {
            "text/plain": [
              "b'1'    2919\n",
              "b'2'    1767\n",
              "b'4'     194\n",
              "b'3'      96\n",
              "b'5'      24\n",
              "Name: target, dtype: int64"
            ]
          },
          "metadata": {},
          "execution_count": 10
        }
      ]
    },
    {
      "cell_type": "code",
      "source": [
        "cl_names=np.unique(data['target'])\n",
        "cl_names[0]"
      ],
      "metadata": {
        "colab": {
          "base_uri": "https://localhost:8080/"
        },
        "id": "jsgb5pMUMC--",
        "outputId": "2ff617c3-af5d-4fdc-ce56-ba0740ba5bef"
      },
      "execution_count": 11,
      "outputs": [
        {
          "output_type": "execute_result",
          "data": {
            "text/plain": [
              "b'1'"
            ]
          },
          "metadata": {},
          "execution_count": 11
        }
      ]
    },
    {
      "cell_type": "code",
      "source": [
        "plt.plot(data['target'].value_counts(),marker='o');"
      ],
      "metadata": {
        "colab": {
          "base_uri": "https://localhost:8080/",
          "height": 684
        },
        "id": "yIAlBVgZFEsv",
        "outputId": "1950b468-b5f7-47cf-8117-99cf68b9da2c"
      },
      "execution_count": 12,
      "outputs": [
        {
          "output_type": "display_data",
          "data": {
            "text/plain": [
              "<Figure size 1200x800 with 1 Axes>"
            ],
            "image/png": "[encoded data removed]"
          },
          "metadata": {
            "image/png": {
              "width": 1009,
              "height": 667
            }
          }
        }
      ]
    },
    {
      "cell_type": "code",
      "source": [
        "# @title Data preprocessing\n",
        "\n",
        "#dataframe of only normal class\n",
        "\n",
        "normal_df=data[data['target']==cl_names[0]].drop('target',axis=1)\n",
        "\n",
        "\n",
        "#dataframe of not normal class\n",
        "\n",
        "anomaly_df=data[data['target']!=cl_names[0]].drop('target',axis=1)\n",
        "\n"
      ],
      "metadata": {
        "id": "KEjOVA_ZGLr4"
      },
      "execution_count": 13,
      "outputs": []
    },
    {
      "cell_type": "code",
      "source": [
        "normal_df.shape"
      ],
      "metadata": {
        "colab": {
          "base_uri": "https://localhost:8080/"
        },
        "id": "3sR6z-vdLf02",
        "outputId": "62d85666-93ad-4f56-f858-134b78ce650e"
      },
      "execution_count": 14,
      "outputs": [
        {
          "output_type": "execute_result",
          "data": {
            "text/plain": [
              "(2919, 140)"
            ]
          },
          "metadata": {},
          "execution_count": 14
        }
      ]
    },
    {
      "cell_type": "code",
      "source": [
        "anomaly_df.shape"
      ],
      "metadata": {
        "colab": {
          "base_uri": "https://localhost:8080/"
        },
        "id": "Kop0ClhjL9wf",
        "outputId": "c96c48d0-685f-4ba5-ffb7-ec739069145f"
      },
      "execution_count": 15,
      "outputs": [
        {
          "output_type": "execute_result",
          "data": {
            "text/plain": [
              "(2081, 140)"
            ]
          },
          "metadata": {},
          "execution_count": 15
        }
      ]
    },
    {
      "cell_type": "code",
      "source": [
        "#split normal data into train validation and test datasets\n",
        "from sklearn.model_selection import train_test_split\n",
        "\n",
        "train_df,valid_df=train_test_split(normal_df,test_size=0.15,random_state=101)\n",
        "\n",
        "valid_df,test_df=train_test_split(valid_df,test_size=0.33,random_state=101)"
      ],
      "metadata": {
        "id": "mT9hVD2zMcb4"
      },
      "execution_count": 16,
      "outputs": []
    },
    {
      "cell_type": "code",
      "source": [
        "train_df.shape,valid_df.shape,test_df.shape"
      ],
      "metadata": {
        "colab": {
          "base_uri": "https://localhost:8080/"
        },
        "id": "IUR-Fx_HOIxw",
        "outputId": "a3721f41-bbbd-49f8-cdca-92e0996f71f1"
      },
      "execution_count": 17,
      "outputs": [
        {
          "output_type": "execute_result",
          "data": {
            "text/plain": [
              "((2481, 140), (293, 140), (145, 140))"
            ]
          },
          "metadata": {},
          "execution_count": 17
        }
      ]
    },
    {
      "cell_type": "code",
      "source": [
        "train_df"
      ],
      "metadata": {
        "colab": {
          "base_uri": "https://localhost:8080/",
          "height": 424
        },
        "id": "qw0vY9F2QTf_",
        "outputId": "ef2da907-1ce5-43a0-e449-c062fa6a4b60"
      },
      "execution_count": 18,
      "outputs": [
        {
          "output_type": "execute_result",
          "data": {
            "text/plain": [
              "          att1      att2      att3      att4      att5      att6      att7  \\\n",
              "1087 -0.006160 -1.834062 -3.032122 -4.413832 -4.369197 -3.648319 -2.596587   \n",
              "86   -1.249841 -3.380427 -3.919335 -3.795123 -3.853224 -3.860531 -2.267108   \n",
              "682  -1.356295 -2.674097 -3.129238 -3.628629 -4.089734 -3.937861 -3.040222   \n",
              "115   0.458383 -1.375611 -3.357627 -4.074506 -4.147331 -3.885491 -3.423433   \n",
              "673   1.883443  0.683965 -0.726982 -1.359900 -1.542762 -1.203945 -0.457925   \n",
              "...        ...       ...       ...       ...       ...       ...       ...   \n",
              "1279 -1.487426 -4.451908 -4.263508 -4.328205 -3.208435 -2.194549 -1.851962   \n",
              "60    0.114271 -2.175108 -3.794647 -4.410312 -4.087260 -3.335413 -2.201042   \n",
              "931   2.052630  1.557905 -0.468934 -2.210767 -3.414199 -4.362142 -3.817230   \n",
              "1702 -1.071676 -3.838079 -4.449824 -4.421966 -3.765435 -2.542878 -1.560992   \n",
              "546  -1.740916 -3.972370 -4.752201 -4.812792 -3.833583 -2.547030 -1.636511   \n",
              "\n",
              "          att8      att9     att10  ...    att131    att132    att133  \\\n",
              "1087 -1.674074 -1.529544 -0.904561  ...  1.819710  1.722112  1.409091   \n",
              "86   -1.429266 -1.483146 -0.961314  ...  1.382744  1.219030  0.658364   \n",
              "682  -1.961040 -1.547837 -1.102871  ...  1.522110  2.212686  2.227046   \n",
              "115  -2.206719 -1.562036 -1.422779  ...  0.993596  1.129667  1.383067   \n",
              "673   0.240224  0.564252  0.816246  ... -1.125252 -1.024829 -0.946507   \n",
              "...        ...       ...       ...  ...       ...       ...       ...   \n",
              "1279 -1.279205 -0.497476 -0.347615  ...  0.274585  1.048987  1.319204   \n",
              "60   -1.595560 -1.301546 -0.619414  ...  0.961914  1.035745  1.403698   \n",
              "931  -2.520502 -1.578292 -1.558623  ... -0.193002  0.662818  0.942242   \n",
              "1702 -1.314799 -0.727074 -0.049407  ...  0.681590  0.928644  1.133831   \n",
              "546  -1.417068 -0.562282 -0.364871  ...  1.552582  1.322028  1.218740   \n",
              "\n",
              "        att134    att135    att136    att137    att138    att139    att140  \n",
              "1087  1.212524  0.905282  0.299996 -0.054258  0.163218  0.566450 -0.848493  \n",
              "86   -0.138916 -0.613060 -1.142856 -0.899102 -1.033704 -0.879945 -1.510429  \n",
              "682   2.449504  2.275810  1.296518 -0.061304 -0.982092 -0.986383 -1.259142  \n",
              "115   1.551532  1.295211  0.825993  0.852609  0.947555  0.381856 -1.365053  \n",
              "673  -1.033117 -1.286353 -1.480985 -1.329074 -1.191242 -1.758055 -3.783197  \n",
              "...        ...       ...       ...       ...       ...       ...       ...  \n",
              "1279  1.096621  1.022815  0.239643 -0.203018 -0.500633  0.543778 -0.451542  \n",
              "60    1.606524  1.647698  1.384917  1.372635  1.902030  2.072517  0.105450  \n",
              "931   0.821146  1.224657  1.190428  0.892449 -0.075519 -0.240375  0.456847  \n",
              "1702  1.482672  1.557618  1.126709  0.766677  1.130290  1.983831 -0.091266  \n",
              "546   1.188379  1.088747  0.725181  0.991935  1.536187  1.524324 -0.448254  \n",
              "\n",
              "[2481 rows x 140 columns]"
            ],
            "text/html": [
              "\n",
              "  <div id=\"df-9bff534b-45d6-424f-9c98-d8e7eb02a383\" class=\"colab-df-container\">\n",
              "    <div>\n",
              "<style scoped>\n",
              "    .dataframe tbody tr th:only-of-type {\n",
              "        vertical-align: middle;\n",
              "    }\n",
              "\n",
              "    .dataframe tbody tr th {\n",
              "        vertical-align: top;\n",
              "    }\n",
              "\n",
              "    .dataframe thead th {\n",
              "        text-align: right;\n",
              "    }\n",
              "</style>\n",
              "<table border=\"1\" class=\"dataframe\">\n",
              "  <thead>\n",
              "    <tr style=\"text-align: right;\">\n",
              "      <th></th>\n",
              "      <th>att1</th>\n",
              "      <th>att2</th>\n",
              "      <th>att3</th>\n",
              "      <th>att4</th>\n",
              "      <th>att5</th>\n",
              "      <th>att6</th>\n",
              "      <th>att7</th>\n",
              "      <th>att8</th>\n",
              "      <th>att9</th>\n",
              "      <th>att10</th>\n",
              "      <th>...</th>\n",
              "      <th>att131</th>\n",
              "      <th>att132</th>\n",
              "      <th>att133</th>\n",
              "      <th>att134</th>\n",
              "      <th>att135</th>\n",
              "      <th>att136</th>\n",
              "      <th>att137</th>\n",
              "      <th>att138</th>\n",
              "      <th>att139</th>\n",
              "      <th>att140</th>\n",
              "    </tr>\n",
              "  </thead>\n",
              "  <tbody>\n",
              "    <tr>\n",
              "      <th>1087</th>\n",
              "      <td>-0.006160</td>\n",
              "      <td>-1.834062</td>\n",
              "      <td>-3.032122</td>\n",
              "      <td>-4.413832</td>\n",
              "      <td>-4.369197</td>\n",
              "      <td>-3.648319</td>\n",
              "      <td>-2.596587</td>\n",
              "      <td>-1.674074</td>\n",
              "      <td>-1.529544</td>\n",
              "      <td>-0.904561</td>\n",
              "      <td>...</td>\n",
              "      <td>1.819710</td>\n",
              "      <td>1.722112</td>\n",
              "      <td>1.409091</td>\n",
              "      <td>1.212524</td>\n",
              "      <td>0.905282</td>\n",
              "      <td>0.299996</td>\n",
              "      <td>-0.054258</td>\n",
              "      <td>0.163218</td>\n",
              "      <td>0.566450</td>\n",
              "      <td>-0.848493</td>\n",
              "    </tr>\n",
              "    <tr>\n",
              "      <th>86</th>\n",
              "      <td>-1.249841</td>\n",
              "      <td>-3.380427</td>\n",
              "      <td>-3.919335</td>\n",
              "      <td>-3.795123</td>\n",
              "      <td>-3.853224</td>\n",
              "      <td>-3.860531</td>\n",
              "      <td>-2.267108</td>\n",
              "      <td>-1.429266</td>\n",
              "      <td>-1.483146</td>\n",
              "      <td>-0.961314</td>\n",
              "      <td>...</td>\n",
              "      <td>1.382744</td>\n",
              "      <td>1.219030</td>\n",
              "      <td>0.658364</td>\n",
              "      <td>-0.138916</td>\n",
              "      <td>-0.613060</td>\n",
              "      <td>-1.142856</td>\n",
              "      <td>-0.899102</td>\n",
              "      <td>-1.033704</td>\n",
              "      <td>-0.879945</td>\n",
              "      <td>-1.510429</td>\n",
              "    </tr>\n",
              "    <tr>\n",
              "      <th>682</th>\n",
              "      <td>-1.356295</td>\n",
              "      <td>-2.674097</td>\n",
              "      <td>-3.129238</td>\n",
              "      <td>-3.628629</td>\n",
              "      <td>-4.089734</td>\n",
              "      <td>-3.937861</td>\n",
              "      <td>-3.040222</td>\n",
              "      <td>-1.961040</td>\n",
              "      <td>-1.547837</td>\n",
              "      <td>-1.102871</td>\n",
              "      <td>...</td>\n",
              "      <td>1.522110</td>\n",
              "      <td>2.212686</td>\n",
              "      <td>2.227046</td>\n",
              "      <td>2.449504</td>\n",
              "      <td>2.275810</td>\n",
              "      <td>1.296518</td>\n",
              "      <td>-0.061304</td>\n",
              "      <td>-0.982092</td>\n",
              "      <td>-0.986383</td>\n",
              "      <td>-1.259142</td>\n",
              "    </tr>\n",
              "    <tr>\n",
              "      <th>115</th>\n",
              "      <td>0.458383</td>\n",
              "      <td>-1.375611</td>\n",
              "      <td>-3.357627</td>\n",
              "      <td>-4.074506</td>\n",
              "      <td>-4.147331</td>\n",
              "      <td>-3.885491</td>\n",
              "      <td>-3.423433</td>\n",
              "      <td>-2.206719</td>\n",
              "      <td>-1.562036</td>\n",
              "      <td>-1.422779</td>\n",
              "      <td>...</td>\n",
              "      <td>0.993596</td>\n",
              "      <td>1.129667</td>\n",
              "      <td>1.383067</td>\n",
              "      <td>1.551532</td>\n",
              "      <td>1.295211</td>\n",
              "      <td>0.825993</td>\n",
              "      <td>0.852609</td>\n",
              "      <td>0.947555</td>\n",
              "      <td>0.381856</td>\n",
              "      <td>-1.365053</td>\n",
              "    </tr>\n",
              "    <tr>\n",
              "      <th>673</th>\n",
              "      <td>1.883443</td>\n",
              "      <td>0.683965</td>\n",
              "      <td>-0.726982</td>\n",
              "      <td>-1.359900</td>\n",
              "      <td>-1.542762</td>\n",
              "      <td>-1.203945</td>\n",
              "      <td>-0.457925</td>\n",
              "      <td>0.240224</td>\n",
              "      <td>0.564252</td>\n",
              "      <td>0.816246</td>\n",
              "      <td>...</td>\n",
              "      <td>-1.125252</td>\n",
              "      <td>-1.024829</td>\n",
              "      <td>-0.946507</td>\n",
              "      <td>-1.033117</td>\n",
              "      <td>-1.286353</td>\n",
              "      <td>-1.480985</td>\n",
              "      <td>-1.329074</td>\n",
              "      <td>-1.191242</td>\n",
              "      <td>-1.758055</td>\n",
              "      <td>-3.783197</td>\n",
              "    </tr>\n",
              "    <tr>\n",
              "      <th>...</th>\n",
              "      <td>...</td>\n",
              "      <td>...</td>\n",
              "      <td>...</td>\n",
              "      <td>...</td>\n",
              "      <td>...</td>\n",
              "      <td>...</td>\n",
              "      <td>...</td>\n",
              "      <td>...</td>\n",
              "      <td>...</td>\n",
              "      <td>...</td>\n",
              "      <td>...</td>\n",
              "      <td>...</td>\n",
              "      <td>...</td>\n",
              "      <td>...</td>\n",
              "      <td>...</td>\n",
              "      <td>...</td>\n",
              "      <td>...</td>\n",
              "      <td>...</td>\n",
              "      <td>...</td>\n",
              "      <td>...</td>\n",
              "      <td>...</td>\n",
              "    </tr>\n",
              "    <tr>\n",
              "      <th>1279</th>\n",
              "      <td>-1.487426</td>\n",
              "      <td>-4.451908</td>\n",
              "      <td>-4.263508</td>\n",
              "      <td>-4.328205</td>\n",
              "      <td>-3.208435</td>\n",
              "      <td>-2.194549</td>\n",
              "      <td>-1.851962</td>\n",
              "      <td>-1.279205</td>\n",
              "      <td>-0.497476</td>\n",
              "      <td>-0.347615</td>\n",
              "      <td>...</td>\n",
              "      <td>0.274585</td>\n",
              "      <td>1.048987</td>\n",
              "      <td>1.319204</td>\n",
              "      <td>1.096621</td>\n",
              "      <td>1.022815</td>\n",
              "      <td>0.239643</td>\n",
              "      <td>-0.203018</td>\n",
              "      <td>-0.500633</td>\n",
              "      <td>0.543778</td>\n",
              "      <td>-0.451542</td>\n",
              "    </tr>\n",
              "    <tr>\n",
              "      <th>60</th>\n",
              "      <td>0.114271</td>\n",
              "      <td>-2.175108</td>\n",
              "      <td>-3.794647</td>\n",
              "      <td>-4.410312</td>\n",
              "      <td>-4.087260</td>\n",
              "      <td>-3.335413</td>\n",
              "      <td>-2.201042</td>\n",
              "      <td>-1.595560</td>\n",
              "      <td>-1.301546</td>\n",
              "      <td>-0.619414</td>\n",
              "      <td>...</td>\n",
              "      <td>0.961914</td>\n",
              "      <td>1.035745</td>\n",
              "      <td>1.403698</td>\n",
              "      <td>1.606524</td>\n",
              "      <td>1.647698</td>\n",
              "      <td>1.384917</td>\n",
              "      <td>1.372635</td>\n",
              "      <td>1.902030</td>\n",
              "      <td>2.072517</td>\n",
              "      <td>0.105450</td>\n",
              "    </tr>\n",
              "    <tr>\n",
              "      <th>931</th>\n",
              "      <td>2.052630</td>\n",
              "      <td>1.557905</td>\n",
              "      <td>-0.468934</td>\n",
              "      <td>-2.210767</td>\n",
              "      <td>-3.414199</td>\n",
              "      <td>-4.362142</td>\n",
              "      <td>-3.817230</td>\n",
              "      <td>-2.520502</td>\n",
              "      <td>-1.578292</td>\n",
              "      <td>-1.558623</td>\n",
              "      <td>...</td>\n",
              "      <td>-0.193002</td>\n",
              "      <td>0.662818</td>\n",
              "      <td>0.942242</td>\n",
              "      <td>0.821146</td>\n",
              "      <td>1.224657</td>\n",
              "      <td>1.190428</td>\n",
              "      <td>0.892449</td>\n",
              "      <td>-0.075519</td>\n",
              "      <td>-0.240375</td>\n",
              "      <td>0.456847</td>\n",
              "    </tr>\n",
              "    <tr>\n",
              "      <th>1702</th>\n",
              "      <td>-1.071676</td>\n",
              "      <td>-3.838079</td>\n",
              "      <td>-4.449824</td>\n",
              "      <td>-4.421966</td>\n",
              "      <td>-3.765435</td>\n",
              "      <td>-2.542878</td>\n",
              "      <td>-1.560992</td>\n",
              "      <td>-1.314799</td>\n",
              "      <td>-0.727074</td>\n",
              "      <td>-0.049407</td>\n",
              "      <td>...</td>\n",
              "      <td>0.681590</td>\n",
              "      <td>0.928644</td>\n",
              "      <td>1.133831</td>\n",
              "      <td>1.482672</td>\n",
              "      <td>1.557618</td>\n",
              "      <td>1.126709</td>\n",
              "      <td>0.766677</td>\n",
              "      <td>1.130290</td>\n",
              "      <td>1.983831</td>\n",
              "      <td>-0.091266</td>\n",
              "    </tr>\n",
              "    <tr>\n",
              "      <th>546</th>\n",
              "      <td>-1.740916</td>\n",
              "      <td>-3.972370</td>\n",
              "      <td>-4.752201</td>\n",
              "      <td>-4.812792</td>\n",
              "      <td>-3.833583</td>\n",
              "      <td>-2.547030</td>\n",
              "      <td>-1.636511</td>\n",
              "      <td>-1.417068</td>\n",
              "      <td>-0.562282</td>\n",
              "      <td>-0.364871</td>\n",
              "      <td>...</td>\n",
              "      <td>1.552582</td>\n",
              "      <td>1.322028</td>\n",
              "      <td>1.218740</td>\n",
              "      <td>1.188379</td>\n",
              "      <td>1.088747</td>\n",
              "      <td>0.725181</td>\n",
              "      <td>0.991935</td>\n",
              "      <td>1.536187</td>\n",
              "      <td>1.524324</td>\n",
              "      <td>-0.448254</td>\n",
              "    </tr>\n",
              "  </tbody>\n",
              "</table>\n",
              "<p>2481 rows × 140 columns</p>\n",
              "</div>\n",
              "    <div class=\"colab-df-buttons\">\n",
              "\n",
              "  <div class=\"colab-df-container\">\n",
              "    <button class=\"colab-df-convert\" onclick=\"convertToInteractive('df-9bff534b-45d6-424f-9c98-d8e7eb02a383')\"\n",
              "            title=\"Convert this dataframe to an interactive table.\"\n",
              "            style=\"display:none;\">\n",
              "\n",
              "  <svg xmlns=\"http://www.w3.org/2000/svg\" height=\"24px\" viewBox=\"0 -960 960 960\">\n",
              "    <path d=\"M120-120v-720h720v720H120Zm60-500h600v-160H180v160Zm220 220h160v-160H400v160Zm0 220h160v-160H400v160ZM180-400h160v-160H180v160Zm440 0h160v-160H620v160ZM180-180h160v-160H180v160Zm440 0h160v-160H620v160Z\"/>\n",
              "  </svg>\n",
              "    </button>\n",
              "\n",
              "  <style>\n",
              "    .colab-df-container {\n",
              "      display:flex;\n",
              "      gap: 12px;\n",
              "    }\n",
              "\n",
              "    .colab-df-convert {\n",
              "      background-color: #E8F0FE;\n",
              "      border: none;\n",
              "      border-radius: 50%;\n",
              "      cursor: pointer;\n",
              "      display: none;\n",
              "      fill: #1967D2;\n",
              "      height: 32px;\n",
              "      padding: 0 0 0 0;\n",
              "      width: 32px;\n",
              "    }\n",
              "\n",
              "    .colab-df-convert:hover {\n",
              "      background-color: #E2EBFA;\n",
              "      box-shadow: 0px 1px 2px rgba(60, 64, 67, 0.3), 0px 1px 3px 1px rgba(60, 64, 67, 0.15);\n",
              "      fill: #174EA6;\n",
              "    }\n",
              "\n",
              "    .colab-df-buttons div {\n",
              "      margin-bottom: 4px;\n",
              "    }\n",
              "\n",
              "    [theme=dark] .colab-df-convert {\n",
              "      background-color: #3B4455;\n",
              "      fill: #D2E3FC;\n",
              "    }\n",
              "\n",
              "    [theme=dark] .colab-df-convert:hover {\n",
              "      background-color: #434B5C;\n",
              "      box-shadow: 0px 1px 3px 1px rgba(0, 0, 0, 0.15);\n",
              "      filter: drop-shadow(0px 1px 2px rgba(0, 0, 0, 0.3));\n",
              "      fill: #FFFFFF;\n",
              "    }\n",
              "  </style>\n",
              "\n",
              "    <script>\n",
              "      const buttonEl =\n",
              "        document.querySelector('#df-9bff534b-45d6-424f-9c98-d8e7eb02a383 button.colab-df-convert');\n",
              "      buttonEl.style.display =\n",
              "        google.colab.kernel.accessAllowed ? 'block' : 'none';\n",
              "\n",
              "      async function convertToInteractive(key) {\n",
              "        const element = document.querySelector('#df-9bff534b-45d6-424f-9c98-d8e7eb02a383');\n",
              "        const dataTable =\n",
              "          await google.colab.kernel.invokeFunction('convertToInteractive',\n",
              "                                                    [key], {});\n",
              "        if (!dataTable) return;\n",
              "\n",
              "        const docLinkHtml = 'Like what you see? Visit the ' +\n",
              "          '<a target=\"_blank\" href=https://colab.research.google.com/notebooks/data_table.ipynb>data table notebook</a>'\n",
              "          + ' to learn more about interactive tables.';\n",
              "        element.innerHTML = '';\n",
              "        dataTable['output_type'] = 'display_data';\n",
              "        await google.colab.output.renderOutput(dataTable, element);\n",
              "        const docLink = document.createElement('div');\n",
              "        docLink.innerHTML = docLinkHtml;\n",
              "        element.appendChild(docLink);\n",
              "      }\n",
              "    </script>\n",
              "  </div>\n",
              "\n",
              "\n",
              "<div id=\"df-10a55e1f-9b9e-4817-ab31-5623e6fb337e\">\n",
              "  <button class=\"colab-df-quickchart\" onclick=\"quickchart('df-10a55e1f-9b9e-4817-ab31-5623e6fb337e')\"\n",
              "            title=\"Suggest charts\"\n",
              "            style=\"display:none;\">\n",
              "\n",
              "<svg xmlns=\"http://www.w3.org/2000/svg\" height=\"24px\"viewBox=\"0 0 24 24\"\n",
              "     width=\"24px\">\n",
              "    <g>\n",
              "        <path d=\"M19 3H5c-1.1 0-2 .9-2 2v14c0 1.1.9 2 2 2h14c1.1 0 2-.9 2-2V5c0-1.1-.9-2-2-2zM9 17H7v-7h2v7zm4 0h-2V7h2v10zm4 0h-2v-4h2v4z\"/>\n",
              "    </g>\n",
              "</svg>\n",
              "  </button>\n",
              "\n",
              "<style>\n",
              "  .colab-df-quickchart {\n",
              "      --bg-color: #E8F0FE;\n",
              "      --fill-color: #1967D2;\n",
              "      --hover-bg-color: #E2EBFA;\n",
              "      --hover-fill-color: #174EA6;\n",
              "      --disabled-fill-color: #AAA;\n",
              "      --disabled-bg-color: #DDD;\n",
              "  }\n",
              "\n",
              "  [theme=dark] .colab-df-quickchart {\n",
              "      --bg-color: #3B4455;\n",
              "      --fill-color: #D2E3FC;\n",
              "      --hover-bg-color: #434B5C;\n",
              "      --hover-fill-color: #FFFFFF;\n",
              "      --disabled-bg-color: #3B4455;\n",
              "      --disabled-fill-color: #666;\n",
              "  }\n",
              "\n",
              "  .colab-df-quickchart {\n",
              "    background-color: var(--bg-color);\n",
              "    border: none;\n",
              "    border-radius: 50%;\n",
              "    cursor: pointer;\n",
              "    display: none;\n",
              "    fill: var(--fill-color);\n",
              "    height: 32px;\n",
              "    padding: 0;\n",
              "    width: 32px;\n",
              "  }\n",
              "\n",
              "  .colab-df-quickchart:hover {\n",
              "    background-color: var(--hover-bg-color);\n",
              "    box-shadow: 0 1px 2px rgba(60, 64, 67, 0.3), 0 1px 3px 1px rgba(60, 64, 67, 0.15);\n",
              "    fill: var(--button-hover-fill-color);\n",
              "  }\n",
              "\n",
              "  .colab-df-quickchart-complete:disabled,\n",
              "  .colab-df-quickchart-complete:disabled:hover {\n",
              "    background-color: var(--disabled-bg-color);\n",
              "    fill: var(--disabled-fill-color);\n",
              "    box-shadow: none;\n",
              "  }\n",
              "\n",
              "  .colab-df-spinner {\n",
              "    border: 2px solid var(--fill-color);\n",
              "    border-color: transparent;\n",
              "    border-bottom-color: var(--fill-color);\n",
              "    animation:\n",
              "      spin 1s steps(1) infinite;\n",
              "  }\n",
              "\n",
              "  @keyframes spin {\n",
              "    0% {\n",
              "      border-color: transparent;\n",
              "      border-bottom-color: var(--fill-color);\n",
              "      border-left-color: var(--fill-color);\n",
              "    }\n",
              "    20% {\n",
              "      border-color: transparent;\n",
              "      border-left-color: var(--fill-color);\n",
              "      border-top-color: var(--fill-color);\n",
              "    }\n",
              "    30% {\n",
              "      border-color: transparent;\n",
              "      border-left-color: var(--fill-color);\n",
              "      border-top-color: var(--fill-color);\n",
              "      border-right-color: var(--fill-color);\n",
              "    }\n",
              "    40% {\n",
              "      border-color: transparent;\n",
              "      border-right-color: var(--fill-color);\n",
              "      border-top-color: var(--fill-color);\n",
              "    }\n",
              "    60% {\n",
              "      border-color: transparent;\n",
              "      border-right-color: var(--fill-color);\n",
              "    }\n",
              "    80% {\n",
              "      border-color: transparent;\n",
              "      border-right-color: var(--fill-color);\n",
              "      border-bottom-color: var(--fill-color);\n",
              "    }\n",
              "    90% {\n",
              "      border-color: transparent;\n",
              "      border-bottom-color: var(--fill-color);\n",
              "    }\n",
              "  }\n",
              "</style>\n",
              "\n",
              "  <script>\n",
              "    async function quickchart(key) {\n",
              "      const quickchartButtonEl =\n",
              "        document.querySelector('#' + key + ' button');\n",
              "      quickchartButtonEl.disabled = true;  // To prevent multiple clicks.\n",
              "      quickchartButtonEl.classList.add('colab-df-spinner');\n",
              "      try {\n",
              "        const charts = await google.colab.kernel.invokeFunction(\n",
              "            'suggestCharts', [key], {});\n",
              "      } catch (error) {\n",
              "        console.error('Error during call to suggestCharts:', error);\n",
              "      }\n",
              "      quickchartButtonEl.classList.remove('colab-df-spinner');\n",
              "      quickchartButtonEl.classList.add('colab-df-quickchart-complete');\n",
              "    }\n",
              "    (() => {\n",
              "      let quickchartButtonEl =\n",
              "        document.querySelector('#df-10a55e1f-9b9e-4817-ab31-5623e6fb337e button');\n",
              "      quickchartButtonEl.style.display =\n",
              "        google.colab.kernel.accessAllowed ? 'block' : 'none';\n",
              "    })();\n",
              "  </script>\n",
              "</div>\n",
              "    </div>\n",
              "  </div>\n"
            ]
          },
          "metadata": {},
          "execution_count": 18
        }
      ]
    },
    {
      "cell_type": "code",
      "source": [
        "#make sequences\n",
        "train_sequences=train_df.astype(np.float32).to_numpy().tolist()\n",
        "valid_sequences=valid_df.astype(np.float32).to_numpy().tolist()\n",
        "test_sequences=test_df.astype(np.float32).to_numpy().tolist()\n",
        "anomaly_sequences=anomaly_df.astype(np.float32).to_numpy().tolist()"
      ],
      "metadata": {
        "id": "-qT8QjKoOPbX"
      },
      "execution_count": 19,
      "outputs": []
    },
    {
      "cell_type": "code",
      "source": [
        "#get list of tensor type sequences\n",
        "\n",
        "def create_dataset(sequences):\n",
        "  dataset=[torch.tensor(s).unsqueeze(1) for s in sequences]\n",
        "  n_seq,seq_len,n_features=torch.stack(dataset).shape\n",
        "  return dataset,seq_len,n_features"
      ],
      "metadata": {
        "id": "0H0V8RFsRbVU"
      },
      "execution_count": 20,
      "outputs": []
    },
    {
      "cell_type": "code",
      "source": [
        "train_dataset,seq_len,n_features=create_dataset(train_sequences)\n",
        "valid_dataset,_,_=create_dataset(valid_sequences)\n",
        "test_normal_dataset,_,_=create_dataset(test_sequences)\n",
        "\n",
        "test_anomaly_dataset,_,_=create_dataset(anomaly_sequences)\n",
        "\n"
      ],
      "metadata": {
        "id": "NpK4F9lZTVW-"
      },
      "execution_count": 21,
      "outputs": []
    },
    {
      "cell_type": "code",
      "source": [
        "# @title LSTM Autoencoder\n",
        "\n",
        "#Encoder\n",
        "import torch.nn as nn\n",
        "\n",
        "class Encoder(nn.Module):\n",
        "\n",
        "  def __init__(self,seq_len,n_features,embedding_dim=64):\n",
        "    super().__init__()\n",
        "    self.seq_len=seq_len\n",
        "    self.embedding_dim=embedding_dim\n",
        "    self.hidden_dim=2*embedding_dim\n",
        "    self.n_feat=n_features\n",
        "\n",
        "    self.rnn1=nn.LSTM(input_size=self.n_feat,hidden_size=self.hidden_dim,num_layers=1,batch_first=True)\n",
        "\n",
        "    self.rnn2=nn.LSTM(input_size=self.hidden_dim,hidden_size=self.embedding_dim,num_layers=1,batch_first=True)\n",
        "\n",
        "  def forward(self,x):\n",
        "    x=x.reshape((1,self.seq_len,self.n_feat))\n",
        "\n",
        "    x,(hidden_n,cell_n)=self.rnn1(x)\n",
        "    x,(hidden_n,cell_n)=self.rnn2(x)\n",
        "\n",
        "    return hidden_n.reshape((1,self.embedding_dim))\n",
        "\n",
        "\n",
        "\n",
        "class Decoder(nn.Module):\n",
        "\n",
        "  def __init__(self,seq_length,input_dim=64,output_dim=1):\n",
        "    super().__init__()\n",
        "    self.seq_len=seq_length\n",
        "    self.input_dim=input_dim\n",
        "    self.hidden_dim=2*self.input_dim\n",
        "    self.output_dim=output_dim\n",
        "\n",
        "    self.rnn1=nn.LSTM(input_size=input_dim,hidden_size=input_dim,num_layers=1,batch_first=True)\n",
        "    self.rnn2=nn.LSTM(input_size=input_dim,hidden_size=self.hidden_dim,num_layers=1,batch_first=True)\n",
        "    self.dense=nn.Linear(self.hidden_dim,self.output_dim)\n",
        "\n",
        "\n",
        "  def forward(self,x):\n",
        "    x=x.repeat(self.seq_len,1)\n",
        "    x=x.reshape((1,self.seq_len,self.input_dim))\n",
        "\n",
        "    x,(hidden_n,cell_n)=self.rnn1(x)\n",
        "    x,(hidden_n,cell_n)=self.rnn2(x)\n",
        "    x=x.reshape((self.seq_len,self.hidden_dim))\n",
        "\n",
        "    return self.dense(x)\n",
        "\n",
        "\n",
        "class RAE(nn.Module):\n",
        "\n",
        "  def __init__(self,seq_len,n_features,embedding_dim=64):\n",
        "    super().__init__()\n",
        "    self.seq_len=seq_len\n",
        "    self.n_features=n_features\n",
        "    self.embedding_dim=embedding_dim\n",
        "\n",
        "    self.encoder=Encoder(self.seq_len,self.n_features,self.embedding_dim)\n",
        "    self.decoder=Decoder(self.seq_len,self.embedding_dim,self.n_features)\n",
        "\n",
        "\n",
        "  def forward(self,x):\n",
        "    x=self.encoder(x)\n",
        "    x=self.decoder(x)\n",
        "    return x"
      ],
      "metadata": {
        "id": "VlHg8wr6ThYf"
      },
      "execution_count": 22,
      "outputs": []
    },
    {
      "cell_type": "code",
      "source": [
        "model_1=RAE(seq_len,n_features,embedding_dim=128)"
      ],
      "metadata": {
        "id": "BzOHA1dNUHmJ"
      },
      "execution_count": 23,
      "outputs": []
    },
    {
      "cell_type": "code",
      "source": [
        "for a in train_dataset:\n",
        "  s=a\n",
        "len(s)"
      ],
      "metadata": {
        "colab": {
          "base_uri": "https://localhost:8080/"
        },
        "id": "XmI2G46-5tz4",
        "outputId": "0882f653-b4e3-4479-bf2d-feeec9b1962a"
      },
      "execution_count": 24,
      "outputs": [
        {
          "output_type": "execute_result",
          "data": {
            "text/plain": [
              "140"
            ]
          },
          "metadata": {},
          "execution_count": 24
        }
      ]
    },
    {
      "cell_type": "code",
      "source": [
        "v=model_1(s)\n",
        "v.shape"
      ],
      "metadata": {
        "colab": {
          "base_uri": "https://localhost:8080/"
        },
        "id": "9zm5F2dx5q4g",
        "outputId": "ff189ec8-b5b8-4c57-d8be-3f3012b0deaf"
      },
      "execution_count": 25,
      "outputs": [
        {
          "output_type": "execute_result",
          "data": {
            "text/plain": [
              "torch.Size([140, 1])"
            ]
          },
          "metadata": {},
          "execution_count": 25
        }
      ]
    },
    {
      "cell_type": "code",
      "source": [
        "# @title Training\n",
        "\n",
        "def train_model(model,train_data,valid_data,n_epochs):\n",
        "\n",
        "  #instantiate optimizer and loss function\n",
        "  model=model.to(device)\n",
        "  optimi=torch.optim.Adam(model.parameters())\n",
        "\n",
        "  loss_fn=nn.L1Loss(reduction='sum').to(device)\n",
        "\n",
        "  history=dict(train=[],val=[])\n",
        "\n",
        "  for epoch in range(1,n_epochs+1):\n",
        "\n",
        "    model=model.train()\n",
        "\n",
        "    train_losses=[]\n",
        "\n",
        "    val_losses=[]\n",
        "\n",
        "    for seq in train_dataset:\n",
        "\n",
        "      optimi.zero_grad()\n",
        "\n",
        "      seq=seq.to(device)\n",
        "\n",
        "      seq_pred=model(seq)\n",
        "\n",
        "      #calculate loss\n",
        "\n",
        "      loss=loss_fn(seq_pred,seq)\n",
        "\n",
        "      loss.backward()\n",
        "\n",
        "      optimi.step()\n",
        "\n",
        "      train_losses.append(loss.item())\n",
        "\n",
        "    model.eval()\n",
        "\n",
        "    with torch.no_grad():\n",
        "      for seq in valid_dataset:\n",
        "        seq=seq.to(device)\n",
        "        seq_preds=model(seq)\n",
        "        loss=loss_fn(seq_preds,seq)\n",
        "        val_losses.append(loss.item())\n",
        "\n",
        "    train_loss=np.mean(train_losses)\n",
        "    val_loss=np.mean(val_losses)\n",
        "    history['train'].append(train_loss)\n",
        "    history['val'].append(val_loss)\n",
        "\n",
        "    print(f'Epoch {epoch} || train_loss {train_loss} || val_loss {val_loss}')\n",
        "\n",
        "  return model.eval(),history\n",
        "\n",
        "\n",
        "\n",
        "\n",
        "\n",
        "\n",
        "\n",
        "\n",
        "\n",
        "\n",
        "\n",
        "\n"
      ],
      "metadata": {
        "id": "qfwKd9-FjBkI"
      },
      "execution_count": 30,
      "outputs": []
    },
    {
      "cell_type": "code",
      "source": [
        "model,history=train_model(model_1,train_dataset,valid_dataset,n_epochs=150)"
      ],
      "metadata": {
        "colab": {
          "base_uri": "https://localhost:8080/"
        },
        "id": "cQ3cQaUO6uSx",
        "outputId": "4fa46151-54ad-4763-f465-19a16537ba18"
      },
      "execution_count": 31,
      "outputs": [
        {
          "output_type": "stream",
          "name": "stdout",
          "text": [
            "Epoch 1 || train_loss 41.12772409053927 || val_loss 40.77846457445581\n",
            "Epoch 2 || train_loss 35.80133241724939 || val_loss 32.49764090918843\n",
            "Epoch 3 || train_loss 30.864200357178053 || val_loss 30.867551230733305\n",
            "Epoch 4 || train_loss 28.254528778688123 || val_loss 26.46306437274295\n",
            "Epoch 5 || train_loss 26.551752985700972 || val_loss 26.4430904030393\n",
            "Epoch 6 || train_loss 25.3463168019299 || val_loss 26.100988384806662\n",
            "Epoch 7 || train_loss 49.859623084093286 || val_loss 45.763474220301916\n",
            "Epoch 8 || train_loss 38.69507566511223 || val_loss 27.858822409203434\n",
            "Epoch 9 || train_loss 30.595209907399507 || val_loss 35.499066050142154\n",
            "Epoch 10 || train_loss 29.705874499175298 || val_loss 27.689886744111877\n",
            "Epoch 11 || train_loss 25.557706129834422 || val_loss 26.80094830900329\n",
            "Epoch 12 || train_loss 25.05979353955848 || val_loss 32.16534266292845\n",
            "Epoch 13 || train_loss 25.903623605533646 || val_loss 30.643533918231014\n",
            "Epoch 14 || train_loss 23.190692521832922 || val_loss 23.115118811154936\n",
            "Epoch 15 || train_loss 21.628513363089017 || val_loss 20.33573511924353\n",
            "Epoch 16 || train_loss 20.65259137474592 || val_loss 27.96643785730564\n",
            "Epoch 17 || train_loss 20.36042664561335 || val_loss 25.147503891902574\n",
            "Epoch 18 || train_loss 19.564444573259028 || val_loss 24.220762894015262\n",
            "Epoch 19 || train_loss 18.592278214146752 || val_loss 17.87456067023424\n",
            "Epoch 20 || train_loss 17.96383054580289 || val_loss 18.444852291927404\n",
            "Epoch 21 || train_loss 17.930717146141976 || val_loss 18.471255714169136\n",
            "Epoch 22 || train_loss 17.857922882670504 || val_loss 18.67487476954281\n",
            "Epoch 23 || train_loss 19.08933027594957 || val_loss 18.156502062957035\n",
            "Epoch 24 || train_loss 18.253903181213662 || val_loss 20.308631278549036\n",
            "Epoch 25 || train_loss 16.474569771761665 || val_loss 15.460042400164816\n",
            "Epoch 26 || train_loss 16.758031977131115 || val_loss 16.359871291463286\n",
            "Epoch 27 || train_loss 15.676495071381918 || val_loss 18.451033214660228\n",
            "Epoch 28 || train_loss 15.135501001689377 || val_loss 15.698293707069684\n",
            "Epoch 29 || train_loss 14.95694505279461 || val_loss 15.036585208905842\n",
            "Epoch 30 || train_loss 14.070427887481049 || val_loss 15.259073161427885\n",
            "Epoch 31 || train_loss 13.764897030334904 || val_loss 14.442719924978835\n",
            "Epoch 32 || train_loss 13.458533462330681 || val_loss 13.967185642125257\n",
            "Epoch 33 || train_loss 13.513656989070304 || val_loss 13.808857330283207\n",
            "Epoch 34 || train_loss 13.079610780379985 || val_loss 13.234822652445718\n",
            "Epoch 35 || train_loss 12.737739016191943 || val_loss 14.05341797721264\n",
            "Epoch 36 || train_loss 12.617070839223436 || val_loss 13.537080292815642\n",
            "Epoch 37 || train_loss 12.389384878013269 || val_loss 13.343531009687092\n",
            "Epoch 38 || train_loss 12.428803999161634 || val_loss 12.711129406613294\n",
            "Epoch 39 || train_loss 11.755806741672194 || val_loss 12.570827765676349\n",
            "Epoch 40 || train_loss 11.740769495842967 || val_loss 12.173670428604803\n",
            "Epoch 41 || train_loss 11.461307879274576 || val_loss 12.076061955084166\n",
            "Epoch 42 || train_loss 12.32558869181598 || val_loss 11.956562688326265\n",
            "Epoch 43 || train_loss 11.230165098521653 || val_loss 12.000496130347658\n",
            "Epoch 44 || train_loss 11.132710938297995 || val_loss 11.866669496985425\n",
            "Epoch 45 || train_loss 11.028301598227154 || val_loss 11.725818163705767\n",
            "Epoch 46 || train_loss 10.986655503979906 || val_loss 11.360424997049794\n",
            "Epoch 47 || train_loss 11.581191583584989 || val_loss 12.14314722770717\n",
            "Epoch 48 || train_loss 11.066555745848625 || val_loss 12.779671104287939\n",
            "Epoch 49 || train_loss 10.911686796375168 || val_loss 12.015618999663474\n",
            "Epoch 50 || train_loss 11.25362467333368 || val_loss 12.603067040036564\n",
            "Epoch 51 || train_loss 10.882918237342512 || val_loss 11.809053987366347\n",
            "Epoch 52 || train_loss 10.808848654152357 || val_loss 11.938636979959117\n",
            "Epoch 53 || train_loss 10.829799709373884 || val_loss 11.502603932859142\n",
            "Epoch 54 || train_loss 10.605749769875812 || val_loss 11.808590334023226\n",
            "Epoch 55 || train_loss 10.60913448860356 || val_loss 11.748237305533763\n",
            "Epoch 56 || train_loss 10.790111853681424 || val_loss 12.185900805346389\n",
            "Epoch 57 || train_loss 10.502386100058688 || val_loss 11.066671402381141\n",
            "Epoch 58 || train_loss 10.753550969607788 || val_loss 11.086660840812396\n",
            "Epoch 59 || train_loss 10.293123199112326 || val_loss 10.84626309782165\n",
            "Epoch 60 || train_loss 10.262183619141338 || val_loss 10.969889012619904\n",
            "Epoch 61 || train_loss 10.269632784794627 || val_loss 11.103278890811543\n",
            "Epoch 62 || train_loss 10.230983927863972 || val_loss 11.260986596651044\n",
            "Epoch 63 || train_loss 10.073018606417316 || val_loss 10.98528772002601\n",
            "Epoch 64 || train_loss 9.999174800336192 || val_loss 10.691160589354844\n",
            "Epoch 65 || train_loss 10.012316973254547 || val_loss 10.75222011312283\n",
            "Epoch 66 || train_loss 9.91923209593595 || val_loss 11.148586365956902\n",
            "Epoch 67 || train_loss 10.010264811425476 || val_loss 11.11369985280997\n",
            "Epoch 68 || train_loss 9.874559675960088 || val_loss 12.01560926762864\n",
            "Epoch 69 || train_loss 9.697804731594271 || val_loss 10.436446233820996\n",
            "Epoch 70 || train_loss 9.650026979296499 || val_loss 10.155022765996106\n",
            "Epoch 71 || train_loss 9.467146066445009 || val_loss 10.517219973098703\n",
            "Epoch 72 || train_loss 10.08636376704962 || val_loss 10.809365497107391\n",
            "Epoch 73 || train_loss 9.535078207075188 || val_loss 10.453165632059143\n",
            "Epoch 74 || train_loss 9.631465725435552 || val_loss 10.395196639637085\n",
            "Epoch 75 || train_loss 9.560785220160401 || val_loss 10.322769023452603\n",
            "Epoch 76 || train_loss 9.461210947563359 || val_loss 10.505131430186509\n",
            "Epoch 77 || train_loss 9.449140856411129 || val_loss 10.238692994817532\n",
            "Epoch 78 || train_loss 9.25483401635634 || val_loss 10.581532258629393\n",
            "Epoch 79 || train_loss 9.120911796743568 || val_loss 10.291181385313692\n",
            "Epoch 80 || train_loss 9.284527273919975 || val_loss 10.16851573918053\n",
            "Epoch 81 || train_loss 9.674861756893282 || val_loss 10.975845815378651\n",
            "Epoch 82 || train_loss 8.987774336929045 || val_loss 10.241880068599974\n",
            "Epoch 83 || train_loss 9.266721832708983 || val_loss 10.078515067442286\n",
            "Epoch 84 || train_loss 9.227398011147232 || val_loss 10.024945739186258\n",
            "Epoch 85 || train_loss 9.103718897163363 || val_loss 10.049869779840671\n",
            "Epoch 86 || train_loss 9.157553419380696 || val_loss 9.922337740354571\n",
            "Epoch 87 || train_loss 9.073940378771056 || val_loss 10.567454936968181\n",
            "Epoch 88 || train_loss 9.065227654805735 || val_loss 9.66073641109792\n",
            "Epoch 89 || train_loss 8.958387287236759 || val_loss 9.929140038864604\n",
            "Epoch 90 || train_loss 8.842599542618567 || val_loss 9.786490313429068\n",
            "Epoch 91 || train_loss 8.882997276224662 || val_loss 10.52577436010992\n",
            "Epoch 92 || train_loss 8.769280331791144 || val_loss 10.002113767044536\n",
            "Epoch 93 || train_loss 8.795916958328025 || val_loss 9.792461904649441\n",
            "Epoch 94 || train_loss 9.31490638514576 || val_loss 10.293738654855982\n",
            "Epoch 95 || train_loss 8.787461114573604 || val_loss 9.724401374725758\n",
            "Epoch 96 || train_loss 8.94048825640296 || val_loss 9.735222779036382\n",
            "Epoch 97 || train_loss 8.826835586773873 || val_loss 9.845317513462627\n",
            "Epoch 98 || train_loss 8.773377936292876 || val_loss 9.821560324255517\n",
            "Epoch 99 || train_loss 8.588746906912457 || val_loss 9.699126010868737\n",
            "Epoch 100 || train_loss 8.646288886660292 || val_loss 9.934817649398648\n",
            "Epoch 101 || train_loss 9.60526437857419 || val_loss 9.922097725266076\n",
            "Epoch 102 || train_loss 8.58438729817038 || val_loss 9.487460120139268\n",
            "Epoch 103 || train_loss 8.450437591134516 || val_loss 10.101602747985527\n",
            "Epoch 104 || train_loss 8.546863896190423 || val_loss 9.77328115274475\n",
            "Epoch 105 || train_loss 8.698866628149448 || val_loss 9.55329293358448\n",
            "Epoch 106 || train_loss 8.569883620436276 || val_loss 9.548745386429614\n",
            "Epoch 107 || train_loss 26.610545445622478 || val_loss 37.12990218543355\n",
            "Epoch 108 || train_loss 28.009524148974098 || val_loss 24.16057927453884\n",
            "Epoch 109 || train_loss 20.55423640858882 || val_loss 22.055565583421103\n",
            "Epoch 110 || train_loss 18.86799435382983 || val_loss 17.598810488860355\n",
            "Epoch 111 || train_loss 17.103947338871492 || val_loss 16.157018658244162\n",
            "Epoch 112 || train_loss 15.049541868350525 || val_loss 15.538890382942487\n",
            "Epoch 113 || train_loss 14.54538119180411 || val_loss 14.78744562168577\n",
            "Epoch 114 || train_loss 13.7034186605771 || val_loss 14.1550468145377\n",
            "Epoch 115 || train_loss 13.394754521263458 || val_loss 13.859361882909573\n",
            "Epoch 116 || train_loss 13.261480554559931 || val_loss 13.922243266382315\n",
            "Epoch 117 || train_loss 12.967088761804375 || val_loss 13.49088696815048\n",
            "Epoch 118 || train_loss 12.735579503346527 || val_loss 12.653717094720834\n",
            "Epoch 119 || train_loss 12.396292302455695 || val_loss 13.087728653344685\n",
            "Epoch 120 || train_loss 12.34546557130087 || val_loss 12.148860443167312\n",
            "Epoch 121 || train_loss 11.895107016357766 || val_loss 11.748680886148186\n",
            "Epoch 122 || train_loss 11.722298557553643 || val_loss 11.280994262304729\n",
            "Epoch 123 || train_loss 11.279261069930113 || val_loss 11.687781630115705\n",
            "Epoch 124 || train_loss 11.251897101342703 || val_loss 11.959715228031927\n",
            "Epoch 125 || train_loss 10.970773222752994 || val_loss 11.85953171342713\n",
            "Epoch 126 || train_loss 10.905063994129739 || val_loss 11.491482283881906\n",
            "Epoch 127 || train_loss 10.913021353260733 || val_loss 10.81583346116258\n",
            "Epoch 128 || train_loss 10.557577165659758 || val_loss 11.401291987188033\n",
            "Epoch 129 || train_loss 10.53003493723779 || val_loss 10.92304727892827\n",
            "Epoch 130 || train_loss 10.422905345733778 || val_loss 10.916753223731655\n",
            "Epoch 131 || train_loss 10.39522283723978 || val_loss 10.44537622529899\n",
            "Epoch 132 || train_loss 10.382283802332296 || val_loss 12.358415484835263\n",
            "Epoch 133 || train_loss 10.227444551299532 || val_loss 11.719424272153157\n",
            "Epoch 134 || train_loss 10.212863153721333 || val_loss 12.5258149514833\n",
            "Epoch 135 || train_loss 10.09304236750697 || val_loss 10.706804106259916\n",
            "Epoch 136 || train_loss 9.95485144610945 || val_loss 10.538876344726354\n",
            "Epoch 137 || train_loss 9.965569982793916 || val_loss 11.107754809864552\n",
            "Epoch 138 || train_loss 9.900953704913938 || val_loss 10.701856634315778\n",
            "Epoch 139 || train_loss 9.905231797757624 || val_loss 11.601539468602516\n",
            "Epoch 140 || train_loss 9.73553665834586 || val_loss 10.423006277442385\n",
            "Epoch 141 || train_loss 9.76615412837793 || val_loss 10.46190805402632\n",
            "Epoch 142 || train_loss 9.652227342152779 || val_loss 10.876449072320307\n",
            "Epoch 143 || train_loss 9.660456701614644 || val_loss 11.320459535097505\n",
            "Epoch 144 || train_loss 9.581731969625034 || val_loss 10.635958158929194\n",
            "Epoch 145 || train_loss 9.48686216301324 || val_loss 10.249409306171405\n",
            "Epoch 146 || train_loss 9.514094525505968 || val_loss 10.133684672593256\n",
            "Epoch 147 || train_loss 9.546328210965225 || val_loss 10.121045143531044\n",
            "Epoch 148 || train_loss 9.351192457259831 || val_loss 10.43297600013811\n",
            "Epoch 149 || train_loss 9.333722787631803 || val_loss 10.273019559554273\n",
            "Epoch 150 || train_loss 9.387865617552961 || val_loss 10.369364167236224\n"
          ]
        }
      ]
    },
    {
      "cell_type": "code",
      "source": [
        "# @title making predictions\n",
        "\n",
        "\n",
        "def predict(model,dataset):\n",
        "\n",
        "  predictions,losses=[],[]\n",
        "  loss_f=nn.L1Loss(reduction='sum').to(device)\n",
        "\n",
        "  with torch.no_grad():\n",
        "    model=model.eval()\n",
        "    for seq in dataset:\n",
        "      seq=seq.to(device)\n",
        "      seq_pred=model(seq)\n",
        "\n",
        "      loss=loss_f(seq,seq_pred)\n",
        "      predictions.append(seq_pred.to('cpu').numpy().flatten())\n",
        "      losses.append(loss.item())\n",
        "  return predictions,losses\n"
      ],
      "metadata": {
        "id": "-LOpVUCS-Ugg"
      },
      "execution_count": 34,
      "outputs": []
    },
    {
      "cell_type": "code",
      "source": [
        "_,losses=predict(model_1,train_dataset)"
      ],
      "metadata": {
        "id": "SbyCNbkIENnn"
      },
      "execution_count": 35,
      "outputs": []
    },
    {
      "cell_type": "code",
      "source": [
        "len(losses)"
      ],
      "metadata": {
        "colab": {
          "base_uri": "https://localhost:8080/"
        },
        "id": "1RhmpL7GTTu5",
        "outputId": "f1e21ee4-5d1f-4826-a785-6f98a3951907"
      },
      "execution_count": 37,
      "outputs": [
        {
          "output_type": "execute_result",
          "data": {
            "text/plain": [
              "2481"
            ]
          },
          "metadata": {},
          "execution_count": 37
        }
      ]
    },
    {
      "cell_type": "code",
      "source": [
        "losses[1]"
      ],
      "metadata": {
        "colab": {
          "base_uri": "https://localhost:8080/"
        },
        "id": "08RsWE1sTYgB",
        "outputId": "2439ba4c-9546-47af-f82c-c2137c242147"
      },
      "execution_count": 38,
      "outputs": [
        {
          "output_type": "execute_result",
          "data": {
            "text/plain": [
              "36.5025634765625"
            ]
          },
          "metadata": {},
          "execution_count": 38
        }
      ]
    },
    {
      "cell_type": "code",
      "source": [
        "import seaborn as sns\n",
        "\n",
        "sns.histplot(losses,bins=50,kde=True);"
      ],
      "metadata": {
        "colab": {
          "base_uri": "https://localhost:8080/",
          "height": 684
        },
        "id": "Ea67NqM1TLiy",
        "outputId": "f33151e7-cd22-4d33-f4fd-8136889fdcce"
      },
      "execution_count": 43,
      "outputs": [
        {
          "output_type": "display_data",
          "data": {
            "text/plain": [
              "<Figure size 1200x800 with 1 Axes>"
            ],
            "image/png": "[encoded data removed]"
          },
          "metadata": {
            "image/png": {
              "width": 1023,
              "height": 667
            }
          }
        }
      ]
    },
    {
      "cell_type": "code",
      "source": [
        "#set a threshold\n",
        "\n",
        "THRESHOLD=26"
      ],
      "metadata": {
        "id": "WQPVdvLDTbvi"
      },
      "execution_count": 44,
      "outputs": []
    },
    {
      "cell_type": "code",
      "source": [
        "# @title Evaluation\n",
        "\n",
        "# @markdown Normal heartbeat\n",
        "\n",
        "predictions,pred_losses =predict(model_1,test_normal_dataset)\n",
        "\n",
        "sns.histplot(pred_losses,bins=50,kde=True)"
      ],
      "metadata": {
        "colab": {
          "base_uri": "https://localhost:8080/",
          "height": 701
        },
        "id": "yVm1MSXzUjT6",
        "outputId": "64e98037-aca3-4109-e30a-b9ae517df4b2"
      },
      "execution_count": 48,
      "outputs": [
        {
          "output_type": "execute_result",
          "data": {
            "text/plain": [
              "<Axes: ylabel='Count'>"
            ]
          },
          "metadata": {},
          "execution_count": 48
        },
        {
          "output_type": "display_data",
          "data": {
            "text/plain": [
              "<Figure size 1200x800 with 1 Axes>"
            ],
            "image/png": "[encoded data removed]"
          },
          "metadata": {
            "image/png": {
              "width": 1018,
              "height": 667
            }
          }
        }
      ]
    },
    {
      "cell_type": "code",
      "source": [
        "#check for number of values with losses greater than threshold value\n",
        "\n",
        "correct=sum(l<=THRESHOLD for l in pred_losses)\n",
        "\n",
        "print(f'normal predictions {correct/len(pred_losses):.2f}')"
      ],
      "metadata": {
        "colab": {
          "base_uri": "https://localhost:8080/"
        },
        "id": "v5Ba0HPDU6L6",
        "outputId": "6059f8da-bb60-4d05-ffd4-18d8ce4a39c5"
      },
      "execution_count": 59,
      "outputs": [
        {
          "output_type": "stream",
          "name": "stdout",
          "text": [
            "normal predictions 0.97\n"
          ]
        }
      ]
    },
    {
      "cell_type": "code",
      "source": [
        "check_anoma=test_anomaly_dataset[:len(test_normal_dataset)]\n",
        "len(check_anoma)"
      ],
      "metadata": {
        "colab": {
          "base_uri": "https://localhost:8080/"
        },
        "id": "qydh0Hs8XwAR",
        "outputId": "82448ded-06f3-4669-a3f6-ab551e3cf252"
      },
      "execution_count": 64,
      "outputs": [
        {
          "output_type": "execute_result",
          "data": {
            "text/plain": [
              "145"
            ]
          },
          "metadata": {},
          "execution_count": 64
        }
      ]
    },
    {
      "cell_type": "code",
      "source": [
        "# @title Anomalies dataset\n",
        "\n",
        "predictions,pred_losses_an =predict(model_1,check_anoma)\n",
        "\n",
        "sns.histplot(pred_losses_an,bins=50,kde=True)"
      ],
      "metadata": {
        "colab": {
          "base_uri": "https://localhost:8080/",
          "height": 701
        },
        "id": "TzKW-oRNV2Ey",
        "outputId": "3fe016a5-d17d-4606-fbc4-52be43ab87c4"
      },
      "execution_count": 68,
      "outputs": [
        {
          "output_type": "execute_result",
          "data": {
            "text/plain": [
              "<Axes: ylabel='Count'>"
            ]
          },
          "metadata": {},
          "execution_count": 68
        },
        {
          "output_type": "display_data",
          "data": {
            "text/plain": [
              "<Figure size 1200x800 with 1 Axes>"
            ],
            "image/png": "[encoded data removed]"
          },
          "metadata": {
            "image/png": {
              "width": 1012,
              "height": 667
            }
          }
        }
      ]
    },
    {
      "cell_type": "code",
      "source": [
        "correct=sum(l<=THRESHOLD for l in pred_losses_an)\n",
        "\n",
        "print(f'abnormal predictions {correct/len(pred_losses):.2f}')"
      ],
      "metadata": {
        "colab": {
          "base_uri": "https://localhost:8080/"
        },
        "id": "Ok_qDgkSXIIx",
        "outputId": "9b1c13a0-322b-4169-9832-f299eb543ed8"
      },
      "execution_count": 70,
      "outputs": [
        {
          "output_type": "stream",
          "name": "stdout",
          "text": [
            "abnormal predictions 0.01\n"
          ]
        }
      ]
    },
    {
      "cell_type": "code",
      "source": [],
      "metadata": {
        "id": "JvRgw3MfY7Ri"
      },
      "execution_count": null,
      "outputs": []
    }
  ]
}